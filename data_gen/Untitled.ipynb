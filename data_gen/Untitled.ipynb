{
 "cells": [
  {
   "cell_type": "code",
   "execution_count": 1,
   "metadata": {},
   "outputs": [
    {
     "name": "stdout",
     "output_type": "stream",
     "text": [
      "INFO: Pandarallel will run on 40 workers.\n",
      "INFO: Pandarallel will use Memory file system to transfer data between the main process and workers.\n"
     ]
    }
   ],
   "source": [
    "import numpy as np\n",
    "import os\n",
    "from pandarallel import pandarallel\n",
    "pandarallel.initialize()\n",
    "import sys\n",
    "import pickle\n",
    "from tqdm import tqdm\n",
    "import pandas as pd\n",
    "\n",
    "id_col = 'PanjivaRecordID'"
   ]
  },
  {
   "cell_type": "code",
   "execution_count": 2,
   "metadata": {},
   "outputs": [],
   "source": [
    "DIR = 'us_import1'\n",
    "SRC_DIR = os.path.join('./../generated_data_v1', DIR)\n",
    "SAVE_DIR = os.path.join('./../generated_data_v1', DIR)"
   ]
  },
  {
   "cell_type": "code",
   "execution_count": 3,
   "metadata": {},
   "outputs": [],
   "source": [
    "def get_domain_dims(DIR):\n",
    "    with open(os.path.join('./../generated_data_v1', DIR, 'domain_dims.pkl'),'rb') as fh:\n",
    "        domain_dims = pickle.load(fh)\n",
    "    return domain_dims"
   ]
  },
  {
   "cell_type": "code",
   "execution_count": 4,
   "metadata": {},
   "outputs": [],
   "source": [
    "def aux_gen(row, domain_dims, num_samples =1):\n",
    "    nd = len(domain_dims)\n",
    "    global id_col\n",
    "     \n",
    "    domains = list(domain_dims.keys())\n",
    "    res = []\n",
    "    pos = row.copy()\n",
    "    del  pos[id_col]\n",
    "    pos = pos.values\n",
    "    for i in range(num_samples):\n",
    "        \n",
    "        row_copy = row.copy()\n",
    "        del row_copy[id_col]\n",
    "        num_pert = int(np.random.randint(nd//2, nd))\n",
    "        pert_idx = np.random.choice(list(range(nd)),num_pert,replace=False)\n",
    "        for _idx in pert_idx:\n",
    "            dom = domains[_idx]\n",
    "            row_copy[dom] = np.random.randint(0,domain_dims[dom])\n",
    "        res.append(row_copy.values)\n",
    "    neg = np.vstack(res)\n",
    "    return (pos,neg)"
   ]
  },
  {
   "cell_type": "code",
   "execution_count": 8,
   "metadata": {},
   "outputs": [],
   "source": [
    "def generate_neg_samples(DIR, num_samples = 5):\n",
    "    global SRC_DIR\n",
    "\n",
    "    domain_dims = get_domain_dims(DIR)\n",
    "    data_df = pd.read_csv(os.path.join(SRC_DIR,'train_data.csv'), index_col=None).head(100)\n",
    "    res = data_df.parallel_apply( aux_gen, axis=1, args=(domain_dims, num_samples,))\n",
    "    pos = []\n",
    "    neg = []\n",
    "    for r in res:\n",
    "        pos.append(r[0])\n",
    "        neg.append(r[1])\n",
    "    \n",
    "    pos = np.vstack(pos)\n",
    "    neg = np.vstack(neg).reshape( [pos.shape[0], num_samples, pos.shape[1]])\n",
    "    print(pos.shape, neg.shape)\n",
    "    return pos, neg\n",
    "    # Save the data \n",
    "    np.save(\n",
    "        SAVE_DIR + '/pos_data.npy',\n",
    "        pos\n",
    "    )\n",
    "    np.save(\n",
    "        SAVE_DIR + '/neg_data.npy',\n",
    "        neg\n",
    "    )\n",
    "    return pos, neg"
   ]
  },
  {
   "cell_type": "code",
   "execution_count": null,
   "metadata": {},
   "outputs": [],
   "source": []
  },
  {
   "cell_type": "code",
   "execution_count": 11,
   "metadata": {},
   "outputs": [
    {
     "data": {
      "text/plain": [
       "(array([ 222, 1300, 1223,  247,   37,   86,   16, 1652]),\n",
       " array([[ 560, 1300, 1294,  108,    5,   86,    0, 2347],\n",
       "        [ 222, 1300, 1223,  159,   21,   86,   63, 2487],\n",
       "        [  90, 1300, 1596,  247,    1,    2,   59,  504],\n",
       "        [ 222, 1391, 1242,  247,   37,  116,   16, 2381],\n",
       "        [ 264, 1300, 1285,  247,   37,   53,   64, 1652]]))"
      ]
     },
     "execution_count": 11,
     "metadata": {},
     "output_type": "execute_result"
    }
   ],
   "source": []
  },
  {
   "cell_type": "code",
   "execution_count": null,
   "metadata": {},
   "outputs": [],
   "source": []
  }
 ],
 "metadata": {
  "kernelspec": {
   "display_name": "Python 3",
   "language": "python",
   "name": "python3"
  },
  "language_info": {
   "codemirror_mode": {
    "name": "ipython",
    "version": 3
   },
   "file_extension": ".py",
   "mimetype": "text/x-python",
   "name": "python",
   "nbconvert_exporter": "python",
   "pygments_lexer": "ipython3",
   "version": "3.7.9"
  }
 },
 "nbformat": 4,
 "nbformat_minor": 4
}
