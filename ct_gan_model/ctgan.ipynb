{
 "cells": [
  {
   "cell_type": "code",
   "execution_count": null,
   "metadata": {},
   "outputs": [],
   "source": [
    "%load_ext autoreload\n",
    "%autoreload 2\n",
    "import sys\n",
    "sys.path.append('./..')\n",
    "from evaluator import eval_module\n",
    "import os \n",
    "import numpy\n",
    "import pickle\n",
    "import numpy as np\n",
    "import pandas as pd\n",
    "import os\n",
    "import sys\n",
    "import tqdm\n",
    "import pickle\n",
    "import pathlib\n",
    "from pathlib import Path\n",
    "from evaluator import eval_module"
   ]
  },
  {
   "cell_type": "code",
   "execution_count": 2,
   "metadata": {},
   "outputs": [
    {
     "data": {
      "text/plain": [
       "'/home/ddatta/anaconda3/envs/graph1/bin/python'"
      ]
     },
     "execution_count": 2,
     "metadata": {},
     "output_type": "execute_result"
    }
   ],
   "source": [
    "import sys\n",
    "sys.executable\n"
   ]
  },
  {
   "cell_type": "code",
   "execution_count": 3,
   "metadata": {},
   "outputs": [
    {
     "name": "stderr",
     "output_type": "stream",
     "text": [
      "/home/ddatta/anaconda3/envs/graph1/lib/python3.7/site-packages/sklearn/utils/deprecation.py:143: FutureWarning: The sklearn.utils.testing module is  deprecated in version 0.22 and will be removed in version 0.24. The corresponding classes / functions should instead be imported from sklearn.utils. Anything that cannot be imported from sklearn.utils is now part of the private API.\n",
      "  warnings.warn(message, FutureWarning)\n"
     ]
    }
   ],
   "source": [
    "import ctgan"
   ]
  },
  {
   "cell_type": "code",
   "execution_count": 5,
   "metadata": {},
   "outputs": [],
   "source": [
    "ctgan = ctgan.CTGANSynthesizer()"
   ]
  },
  {
   "cell_type": "code",
   "execution_count": 6,
   "metadata": {},
   "outputs": [],
   "source": [
    "def get_domain_dims(DIR='us_import1'):\n",
    "    with open('./../generated_data_v1/{}/domain_dims.pkl'.format(DIR),'rb') as fh:\n",
    "        domain_dims = pickle.load(fh)\n",
    "    return domain_dims\n",
    "\n",
    "def convert_np_to_pd(data_np, domain_dims):\n",
    "    columns = list(domain_dims.keys())\n",
    "    df = pd.DataFrame(data= data_np, columns=columns)\n",
    "    return df, columns"
   ]
  },
  {
   "cell_type": "code",
   "execution_count": 10,
   "metadata": {},
   "outputs": [],
   "source": [
    "real_data = np.load('./../generated_data_v1/us_import1/pos_data.npy')"
   ]
  },
  {
   "cell_type": "code",
   "execution_count": 11,
   "metadata": {},
   "outputs": [
    {
     "data": {
      "text/html": [
       "<div>\n",
       "<style scoped>\n",
       "    .dataframe tbody tr th:only-of-type {\n",
       "        vertical-align: middle;\n",
       "    }\n",
       "\n",
       "    .dataframe tbody tr th {\n",
       "        vertical-align: top;\n",
       "    }\n",
       "\n",
       "    .dataframe thead th {\n",
       "        text-align: right;\n",
       "    }\n",
       "</style>\n",
       "<table border=\"1\" class=\"dataframe\">\n",
       "  <thead>\n",
       "    <tr style=\"text-align: right;\">\n",
       "      <th></th>\n",
       "      <th>Carrier</th>\n",
       "      <th>ConsigneePanjivaID</th>\n",
       "      <th>HSCode</th>\n",
       "      <th>PortOfLading</th>\n",
       "      <th>PortOfUnlading</th>\n",
       "      <th>ShipmentDestination</th>\n",
       "      <th>ShipmentOrigin</th>\n",
       "      <th>ShipperPanjivaID</th>\n",
       "    </tr>\n",
       "  </thead>\n",
       "  <tbody>\n",
       "    <tr>\n",
       "      <th>0</th>\n",
       "      <td>222</td>\n",
       "      <td>1300</td>\n",
       "      <td>1223</td>\n",
       "      <td>247</td>\n",
       "      <td>37</td>\n",
       "      <td>86</td>\n",
       "      <td>16</td>\n",
       "      <td>1652</td>\n",
       "    </tr>\n",
       "    <tr>\n",
       "      <th>1</th>\n",
       "      <td>494</td>\n",
       "      <td>66</td>\n",
       "      <td>835</td>\n",
       "      <td>247</td>\n",
       "      <td>61</td>\n",
       "      <td>125</td>\n",
       "      <td>16</td>\n",
       "      <td>1611</td>\n",
       "    </tr>\n",
       "    <tr>\n",
       "      <th>2</th>\n",
       "      <td>89</td>\n",
       "      <td>322</td>\n",
       "      <td>590</td>\n",
       "      <td>194</td>\n",
       "      <td>37</td>\n",
       "      <td>87</td>\n",
       "      <td>16</td>\n",
       "      <td>2321</td>\n",
       "    </tr>\n",
       "    <tr>\n",
       "      <th>3</th>\n",
       "      <td>580</td>\n",
       "      <td>2985</td>\n",
       "      <td>1328</td>\n",
       "      <td>247</td>\n",
       "      <td>8</td>\n",
       "      <td>22</td>\n",
       "      <td>16</td>\n",
       "      <td>1237</td>\n",
       "    </tr>\n",
       "    <tr>\n",
       "      <th>4</th>\n",
       "      <td>308</td>\n",
       "      <td>2983</td>\n",
       "      <td>1601</td>\n",
       "      <td>194</td>\n",
       "      <td>8</td>\n",
       "      <td>22</td>\n",
       "      <td>16</td>\n",
       "      <td>1211</td>\n",
       "    </tr>\n",
       "    <tr>\n",
       "      <th>5</th>\n",
       "      <td>340</td>\n",
       "      <td>885</td>\n",
       "      <td>1601</td>\n",
       "      <td>275</td>\n",
       "      <td>8</td>\n",
       "      <td>22</td>\n",
       "      <td>16</td>\n",
       "      <td>787</td>\n",
       "    </tr>\n",
       "    <tr>\n",
       "      <th>6</th>\n",
       "      <td>308</td>\n",
       "      <td>2983</td>\n",
       "      <td>1601</td>\n",
       "      <td>105</td>\n",
       "      <td>16</td>\n",
       "      <td>44</td>\n",
       "      <td>16</td>\n",
       "      <td>1719</td>\n",
       "    </tr>\n",
       "    <tr>\n",
       "      <th>7</th>\n",
       "      <td>90</td>\n",
       "      <td>1811</td>\n",
       "      <td>1440</td>\n",
       "      <td>247</td>\n",
       "      <td>39</td>\n",
       "      <td>88</td>\n",
       "      <td>16</td>\n",
       "      <td>313</td>\n",
       "    </tr>\n",
       "    <tr>\n",
       "      <th>8</th>\n",
       "      <td>28</td>\n",
       "      <td>885</td>\n",
       "      <td>1498</td>\n",
       "      <td>247</td>\n",
       "      <td>39</td>\n",
       "      <td>88</td>\n",
       "      <td>16</td>\n",
       "      <td>711</td>\n",
       "    </tr>\n",
       "    <tr>\n",
       "      <th>9</th>\n",
       "      <td>505</td>\n",
       "      <td>1506</td>\n",
       "      <td>1613</td>\n",
       "      <td>194</td>\n",
       "      <td>61</td>\n",
       "      <td>125</td>\n",
       "      <td>16</td>\n",
       "      <td>1421</td>\n",
       "    </tr>\n",
       "  </tbody>\n",
       "</table>\n",
       "</div>"
      ],
      "text/plain": [
       "   Carrier  ConsigneePanjivaID  HSCode  PortOfLading  PortOfUnlading  \\\n",
       "0      222                1300    1223           247              37   \n",
       "1      494                  66     835           247              61   \n",
       "2       89                 322     590           194              37   \n",
       "3      580                2985    1328           247               8   \n",
       "4      308                2983    1601           194               8   \n",
       "5      340                 885    1601           275               8   \n",
       "6      308                2983    1601           105              16   \n",
       "7       90                1811    1440           247              39   \n",
       "8       28                 885    1498           247              39   \n",
       "9      505                1506    1613           194              61   \n",
       "\n",
       "   ShipmentDestination  ShipmentOrigin  ShipperPanjivaID  \n",
       "0                   86              16              1652  \n",
       "1                  125              16              1611  \n",
       "2                   87              16              2321  \n",
       "3                   22              16              1237  \n",
       "4                   22              16              1211  \n",
       "5                   22              16               787  \n",
       "6                   44              16              1719  \n",
       "7                   88              16               313  \n",
       "8                   88              16               711  \n",
       "9                  125              16              1421  "
      ]
     },
     "execution_count": 11,
     "metadata": {},
     "output_type": "execute_result"
    }
   ],
   "source": [
    "domain_dims = get_domain_dims()\n",
    "data_df,columns = convert_np_to_pd(real_data, domain_dims)\n",
    "data_df.head(10)"
   ]
  },
  {
   "cell_type": "code",
   "execution_count": 34,
   "metadata": {
    "scrolled": true
   },
   "outputs": [
    {
     "name": "stdout",
     "output_type": "stream",
     "text": [
      "Epoch 301, Loss G: 0.1676, Loss D: -0.0545\n",
      "Epoch 302, Loss G: 0.1880, Loss D: -0.1073\n",
      "Epoch 303, Loss G: 0.1542, Loss D: -0.0754\n",
      "Epoch 304, Loss G: 0.2146, Loss D: -0.0620\n",
      "Epoch 305, Loss G: 0.1512, Loss D: -0.0592\n",
      "Epoch 306, Loss G: 0.1735, Loss D: -0.0927\n",
      "Epoch 307, Loss G: 0.1583, Loss D: -0.0230\n",
      "Epoch 308, Loss G: 0.2626, Loss D: -0.1037\n",
      "Epoch 309, Loss G: 0.3113, Loss D: -0.0687\n",
      "Epoch 310, Loss G: 0.1887, Loss D: -0.0901\n",
      "Epoch 311, Loss G: 0.1526, Loss D: -0.0956\n",
      "Epoch 312, Loss G: 0.1490, Loss D: -0.0961\n",
      "Epoch 313, Loss G: 0.1223, Loss D: -0.0555\n",
      "Epoch 314, Loss G: 0.1974, Loss D: -0.0696\n",
      "Epoch 315, Loss G: 0.1370, Loss D: -0.1014\n",
      "Epoch 316, Loss G: 0.2701, Loss D: -0.0898\n",
      "Epoch 317, Loss G: 0.2189, Loss D: -0.0576\n",
      "Epoch 318, Loss G: 0.1836, Loss D: -0.0574\n",
      "Epoch 319, Loss G: 0.1819, Loss D: -0.0539\n",
      "Epoch 320, Loss G: 0.2399, Loss D: -0.0813\n",
      "Epoch 321, Loss G: 0.1613, Loss D: -0.0703\n",
      "Epoch 322, Loss G: 0.1539, Loss D: -0.0898\n",
      "Epoch 323, Loss G: 0.1690, Loss D: -0.1172\n",
      "Epoch 324, Loss G: 0.1672, Loss D: -0.0587\n",
      "Epoch 325, Loss G: 0.0916, Loss D: -0.0951\n",
      "Epoch 326, Loss G: 0.1265, Loss D: -0.1190\n",
      "Epoch 327, Loss G: 0.2265, Loss D: -0.0921\n",
      "Epoch 328, Loss G: 0.1465, Loss D: -0.0661\n",
      "Epoch 329, Loss G: 0.1654, Loss D: -0.1043\n",
      "Epoch 330, Loss G: 0.2707, Loss D: -0.0670\n",
      "Epoch 331, Loss G: 0.1989, Loss D: -0.0110\n",
      "Epoch 332, Loss G: 0.3194, Loss D: -0.1281\n",
      "Epoch 333, Loss G: 0.1397, Loss D: -0.0386\n",
      "Epoch 334, Loss G: 0.2666, Loss D: -0.1008\n",
      "Epoch 335, Loss G: 0.2509, Loss D: -0.0666\n",
      "Epoch 336, Loss G: 0.1530, Loss D: -0.0960\n",
      "Epoch 337, Loss G: 0.2107, Loss D: -0.0653\n",
      "Epoch 338, Loss G: 0.1628, Loss D: -0.0493\n",
      "Epoch 339, Loss G: 0.2032, Loss D: -0.1135\n",
      "Epoch 340, Loss G: 0.1533, Loss D: -0.0846\n",
      "Epoch 341, Loss G: 0.1409, Loss D: -0.0966\n",
      "Epoch 342, Loss G: 0.1973, Loss D: -0.1160\n",
      "Epoch 343, Loss G: 0.1388, Loss D: -0.0783\n",
      "Epoch 344, Loss G: 0.1740, Loss D: -0.0615\n",
      "Epoch 345, Loss G: 0.1619, Loss D: -0.1008\n",
      "Epoch 346, Loss G: 0.1886, Loss D: -0.1008\n",
      "Epoch 347, Loss G: 0.2292, Loss D: -0.0797\n",
      "Epoch 348, Loss G: 0.1294, Loss D: -0.0636\n",
      "Epoch 349, Loss G: 0.2174, Loss D: -0.0532\n",
      "Epoch 350, Loss G: 0.0847, Loss D: -0.0830\n",
      "Epoch 351, Loss G: 0.2098, Loss D: -0.0741\n",
      "Epoch 352, Loss G: 0.1256, Loss D: -0.0836\n",
      "Epoch 353, Loss G: 0.2086, Loss D: -0.0981\n",
      "Epoch 354, Loss G: 0.1971, Loss D: -0.0652\n",
      "Epoch 355, Loss G: 0.3061, Loss D: -0.0964\n",
      "Epoch 356, Loss G: 0.1426, Loss D: -0.0749\n",
      "Epoch 357, Loss G: 0.2120, Loss D: -0.0692\n",
      "Epoch 358, Loss G: 0.2153, Loss D: -0.1009\n",
      "Epoch 359, Loss G: 0.1225, Loss D: -0.0591\n",
      "Epoch 360, Loss G: 0.1174, Loss D: -0.0740\n",
      "Epoch 361, Loss G: 0.1021, Loss D: -0.0976\n",
      "Epoch 362, Loss G: 0.2124, Loss D: -0.0525\n",
      "Epoch 363, Loss G: 0.1688, Loss D: -0.0605\n",
      "Epoch 364, Loss G: 0.2203, Loss D: -0.0537\n",
      "Epoch 365, Loss G: 0.1605, Loss D: -0.1148\n",
      "Epoch 366, Loss G: 0.1591, Loss D: -0.0904\n",
      "Epoch 367, Loss G: 0.1246, Loss D: -0.0404\n",
      "Epoch 368, Loss G: 0.1429, Loss D: -0.0649\n",
      "Epoch 369, Loss G: 0.2738, Loss D: -0.0332\n",
      "Epoch 370, Loss G: 0.1161, Loss D: -0.0915\n",
      "Epoch 371, Loss G: 0.1550, Loss D: -0.0793\n",
      "Epoch 372, Loss G: 0.1919, Loss D: -0.0842\n",
      "Epoch 373, Loss G: 0.2645, Loss D: -0.0742\n",
      "Epoch 374, Loss G: 0.1534, Loss D: -0.0717\n",
      "Epoch 375, Loss G: 0.2427, Loss D: -0.0879\n",
      "Epoch 376, Loss G: 0.1608, Loss D: -0.0766\n",
      "Epoch 377, Loss G: 0.1836, Loss D: -0.0929\n",
      "Epoch 378, Loss G: 0.2588, Loss D: -0.1031\n",
      "Epoch 379, Loss G: 0.2146, Loss D: -0.0247\n",
      "Epoch 380, Loss G: 0.2505, Loss D: -0.1108\n",
      "Epoch 381, Loss G: 0.2753, Loss D: -0.1021\n",
      "Epoch 382, Loss G: 0.1246, Loss D: -0.0705\n",
      "Epoch 383, Loss G: 0.2299, Loss D: -0.0775\n",
      "Epoch 384, Loss G: 0.1857, Loss D: -0.1302\n",
      "Epoch 385, Loss G: 0.3127, Loss D: -0.1418\n",
      "Epoch 386, Loss G: 0.2735, Loss D: -0.1020\n",
      "Epoch 387, Loss G: 0.2446, Loss D: -0.0970\n",
      "Epoch 388, Loss G: 0.1763, Loss D: -0.0867\n",
      "Epoch 389, Loss G: 0.1609, Loss D: -0.0631\n",
      "Epoch 390, Loss G: 0.1269, Loss D: -0.0990\n",
      "Epoch 391, Loss G: 0.0583, Loss D: -0.0729\n",
      "Epoch 392, Loss G: 0.2728, Loss D: -0.0983\n",
      "Epoch 393, Loss G: 0.1561, Loss D: -0.0827\n",
      "Epoch 394, Loss G: 0.3234, Loss D: -0.0722\n",
      "Epoch 395, Loss G: 0.2260, Loss D: -0.0725\n",
      "Epoch 396, Loss G: 0.1662, Loss D: -0.0641\n",
      "Epoch 397, Loss G: 0.2857, Loss D: -0.0803\n",
      "Epoch 398, Loss G: 0.1766, Loss D: -0.0937\n",
      "Epoch 399, Loss G: 0.1471, Loss D: -0.0922\n",
      "Epoch 400, Loss G: 0.3216, Loss D: -0.0766\n",
      "Epoch 401, Loss G: 0.2553, Loss D: -0.0936\n",
      "Epoch 402, Loss G: 0.2473, Loss D: -0.0615\n",
      "Epoch 403, Loss G: 0.1883, Loss D: -0.0536\n",
      "Epoch 404, Loss G: 0.1242, Loss D: -0.0540\n",
      "Epoch 405, Loss G: 0.1802, Loss D: -0.1197\n",
      "Epoch 406, Loss G: 0.1201, Loss D: -0.0635\n",
      "Epoch 407, Loss G: 0.1813, Loss D: -0.0941\n",
      "Epoch 408, Loss G: 0.1803, Loss D: -0.0765\n",
      "Epoch 409, Loss G: 0.2794, Loss D: -0.1055\n",
      "Epoch 410, Loss G: 0.2675, Loss D: -0.0796\n",
      "Epoch 411, Loss G: 0.1495, Loss D: -0.0745\n",
      "Epoch 412, Loss G: 0.2930, Loss D: -0.0867\n",
      "Epoch 413, Loss G: 0.1697, Loss D: -0.0702\n",
      "Epoch 414, Loss G: 0.1671, Loss D: -0.0685\n",
      "Epoch 415, Loss G: 0.1703, Loss D: -0.0776\n",
      "Epoch 416, Loss G: 0.2468, Loss D: -0.1162\n",
      "Epoch 417, Loss G: 0.1974, Loss D: -0.1041\n",
      "Epoch 418, Loss G: 0.2578, Loss D: -0.0882\n",
      "Epoch 419, Loss G: 0.2103, Loss D: -0.0545\n",
      "Epoch 420, Loss G: 0.2608, Loss D: -0.1075\n",
      "Epoch 421, Loss G: 0.1344, Loss D: -0.0799\n",
      "Epoch 422, Loss G: 0.2991, Loss D: -0.0521\n",
      "Epoch 423, Loss G: 0.2353, Loss D: -0.0736\n",
      "Epoch 424, Loss G: 0.2022, Loss D: -0.0785\n",
      "Epoch 425, Loss G: 0.1581, Loss D: -0.0805\n",
      "Epoch 426, Loss G: 0.2086, Loss D: -0.0760\n",
      "Epoch 427, Loss G: 0.2431, Loss D: -0.0752\n",
      "Epoch 428, Loss G: 0.2122, Loss D: -0.0296\n",
      "Epoch 429, Loss G: 0.2065, Loss D: -0.0814\n",
      "Epoch 430, Loss G: 0.2818, Loss D: -0.0754\n",
      "Epoch 431, Loss G: 0.1650, Loss D: -0.0913\n",
      "Epoch 432, Loss G: 0.1829, Loss D: -0.0806\n",
      "Epoch 433, Loss G: 0.1406, Loss D: -0.1032\n",
      "Epoch 434, Loss G: 0.2835, Loss D: -0.0719\n",
      "Epoch 435, Loss G: 0.1925, Loss D: -0.0667\n",
      "Epoch 436, Loss G: 0.1192, Loss D: -0.1302\n",
      "Epoch 437, Loss G: 0.1978, Loss D: -0.0729\n",
      "Epoch 438, Loss G: 0.3191, Loss D: -0.0816\n",
      "Epoch 439, Loss G: 0.2278, Loss D: -0.1040\n",
      "Epoch 440, Loss G: 0.1974, Loss D: -0.0947\n",
      "Epoch 441, Loss G: 0.2928, Loss D: -0.0954\n",
      "Epoch 442, Loss G: 0.2138, Loss D: -0.0902\n",
      "Epoch 443, Loss G: 0.1725, Loss D: -0.0541\n",
      "Epoch 444, Loss G: 0.1161, Loss D: -0.1137\n",
      "Epoch 445, Loss G: 0.3841, Loss D: -0.1048\n",
      "Epoch 446, Loss G: 0.1790, Loss D: -0.0986\n",
      "Epoch 447, Loss G: 0.2609, Loss D: -0.1063\n",
      "Epoch 448, Loss G: 0.2344, Loss D: -0.0860\n",
      "Epoch 449, Loss G: 0.1424, Loss D: -0.0736\n",
      "Epoch 450, Loss G: 0.2064, Loss D: -0.0834\n",
      "Epoch 451, Loss G: 0.2215, Loss D: -0.0734\n",
      "Epoch 452, Loss G: 0.2802, Loss D: -0.1272\n",
      "Epoch 453, Loss G: 0.3288, Loss D: -0.1096\n",
      "Epoch 454, Loss G: 0.2053, Loss D: -0.0860\n",
      "Epoch 455, Loss G: 0.1566, Loss D: -0.0855\n",
      "Epoch 456, Loss G: 0.2538, Loss D: -0.0814\n",
      "Epoch 457, Loss G: 0.2404, Loss D: -0.0738\n",
      "Epoch 458, Loss G: 0.1833, Loss D: -0.0911\n",
      "Epoch 459, Loss G: 0.2394, Loss D: -0.0922\n",
      "Epoch 460, Loss G: 0.1960, Loss D: -0.0309\n",
      "Epoch 461, Loss G: 0.2191, Loss D: -0.1120\n",
      "Epoch 462, Loss G: 0.2283, Loss D: -0.0749\n",
      "Epoch 463, Loss G: 0.1792, Loss D: -0.0657\n",
      "Epoch 464, Loss G: 0.2626, Loss D: -0.0724\n",
      "Epoch 465, Loss G: 0.1755, Loss D: -0.1166\n",
      "Epoch 466, Loss G: 0.1962, Loss D: -0.1119\n",
      "Epoch 467, Loss G: 0.1651, Loss D: -0.1041\n",
      "Epoch 468, Loss G: 0.2120, Loss D: -0.0859\n",
      "Epoch 469, Loss G: 0.1653, Loss D: -0.1217\n",
      "Epoch 470, Loss G: 0.1156, Loss D: -0.0635\n",
      "Epoch 471, Loss G: 0.1914, Loss D: -0.0925\n",
      "Epoch 472, Loss G: 0.1460, Loss D: -0.0559\n",
      "Epoch 473, Loss G: 0.1519, Loss D: -0.1106\n",
      "Epoch 474, Loss G: 0.1423, Loss D: -0.0967\n",
      "Epoch 475, Loss G: 0.2015, Loss D: -0.0983\n",
      "Epoch 476, Loss G: 0.2955, Loss D: -0.1026\n",
      "Epoch 477, Loss G: 0.2739, Loss D: -0.0666\n",
      "Epoch 478, Loss G: 0.1700, Loss D: -0.0928\n",
      "Epoch 479, Loss G: 0.1905, Loss D: -0.0940\n",
      "Epoch 480, Loss G: 0.1536, Loss D: -0.1135\n",
      "Epoch 481, Loss G: 0.1280, Loss D: -0.0416\n",
      "Epoch 482, Loss G: 0.2110, Loss D: -0.0701\n",
      "Epoch 483, Loss G: 0.2237, Loss D: -0.0691\n",
      "Epoch 484, Loss G: 0.2674, Loss D: -0.0940\n",
      "Epoch 485, Loss G: 0.1989, Loss D: -0.0811\n",
      "Epoch 486, Loss G: 0.2098, Loss D: -0.0298\n",
      "Epoch 487, Loss G: 0.1246, Loss D: -0.0698\n",
      "Epoch 488, Loss G: 0.2062, Loss D: -0.0842\n",
      "Epoch 489, Loss G: 0.0882, Loss D: -0.0465\n",
      "Epoch 490, Loss G: 0.1604, Loss D: -0.0552\n",
      "Epoch 491, Loss G: 0.1546, Loss D: -0.0141\n",
      "Epoch 492, Loss G: 0.2906, Loss D: -0.0690\n",
      "Epoch 493, Loss G: 0.2583, Loss D: -0.0596\n",
      "Epoch 494, Loss G: 0.2781, Loss D: -0.0702\n",
      "Epoch 495, Loss G: 0.1491, Loss D: -0.0427\n",
      "Epoch 496, Loss G: 0.1960, Loss D: -0.0634\n",
      "Epoch 497, Loss G: 0.1776, Loss D: -0.0970\n",
      "Epoch 498, Loss G: 0.1538, Loss D: -0.0527\n",
      "Epoch 499, Loss G: 0.2260, Loss D: -0.0671\n",
      "Epoch 500, Loss G: 0.2134, Loss D: -0.0870\n",
      "Epoch 501, Loss G: 0.1487, Loss D: -0.0810\n",
      "Epoch 502, Loss G: 0.2536, Loss D: -0.0878\n"
     ]
    },
    {
     "ename": "KeyboardInterrupt",
     "evalue": "",
     "output_type": "error",
     "traceback": [
      "\u001b[0;31m---------------------------------------------------------------------------\u001b[0m",
      "\u001b[0;31mKeyboardInterrupt\u001b[0m                         Traceback (most recent call last)",
      "\u001b[0;32m<ipython-input-34-aab961a2d48f>\u001b[0m in \u001b[0;36m<module>\u001b[0;34m\u001b[0m\n\u001b[0;32m----> 1\u001b[0;31m \u001b[0mctgan\u001b[0m\u001b[0;34m.\u001b[0m\u001b[0mfit\u001b[0m\u001b[0;34m(\u001b[0m\u001b[0mdata_df\u001b[0m\u001b[0;34m,\u001b[0m \u001b[0mcolumns\u001b[0m\u001b[0;34m,\u001b[0m \u001b[0mepochs\u001b[0m\u001b[0;34m=\u001b[0m\u001b[0;36m500\u001b[0m\u001b[0;34m)\u001b[0m\u001b[0;34m\u001b[0m\u001b[0;34m\u001b[0m\u001b[0m\n\u001b[0m\u001b[1;32m      2\u001b[0m \u001b[0mctgan\u001b[0m\u001b[0;34m.\u001b[0m\u001b[0msave\u001b[0m\u001b[0;34m(\u001b[0m\u001b[0;34m'ctgan_500.pkl'\u001b[0m\u001b[0;34m)\u001b[0m\u001b[0;34m\u001b[0m\u001b[0;34m\u001b[0m\u001b[0m\n",
      "\u001b[0;32m~/anaconda3/envs/graph1/lib/python3.7/site-packages/ctgan/synthesizer.py\u001b[0m in \u001b[0;36mfit\u001b[0;34m(self, train_data, discrete_columns, epochs, log_frequency)\u001b[0m\n\u001b[1;32m    199\u001b[0m                 \u001b[0mfakez\u001b[0m \u001b[0;34m=\u001b[0m \u001b[0mtorch\u001b[0m\u001b[0;34m.\u001b[0m\u001b[0mnormal\u001b[0m\u001b[0;34m(\u001b[0m\u001b[0mmean\u001b[0m\u001b[0;34m=\u001b[0m\u001b[0mmean\u001b[0m\u001b[0;34m,\u001b[0m \u001b[0mstd\u001b[0m\u001b[0;34m=\u001b[0m\u001b[0mstd\u001b[0m\u001b[0;34m)\u001b[0m\u001b[0;34m\u001b[0m\u001b[0;34m\u001b[0m\u001b[0m\n\u001b[1;32m    200\u001b[0m \u001b[0;34m\u001b[0m\u001b[0m\n\u001b[0;32m--> 201\u001b[0;31m                 \u001b[0mcondvec\u001b[0m \u001b[0;34m=\u001b[0m \u001b[0mself\u001b[0m\u001b[0;34m.\u001b[0m\u001b[0mcond_generator\u001b[0m\u001b[0;34m.\u001b[0m\u001b[0msample\u001b[0m\u001b[0;34m(\u001b[0m\u001b[0mself\u001b[0m\u001b[0;34m.\u001b[0m\u001b[0mbatch_size\u001b[0m\u001b[0;34m)\u001b[0m\u001b[0;34m\u001b[0m\u001b[0;34m\u001b[0m\u001b[0m\n\u001b[0m\u001b[1;32m    202\u001b[0m                 \u001b[0;32mif\u001b[0m \u001b[0mcondvec\u001b[0m \u001b[0;32mis\u001b[0m \u001b[0;32mNone\u001b[0m\u001b[0;34m:\u001b[0m\u001b[0;34m\u001b[0m\u001b[0;34m\u001b[0m\u001b[0m\n\u001b[1;32m    203\u001b[0m                     \u001b[0mc1\u001b[0m\u001b[0;34m,\u001b[0m \u001b[0mm1\u001b[0m\u001b[0;34m,\u001b[0m \u001b[0mcol\u001b[0m\u001b[0;34m,\u001b[0m \u001b[0mopt\u001b[0m \u001b[0;34m=\u001b[0m \u001b[0;32mNone\u001b[0m\u001b[0;34m,\u001b[0m \u001b[0;32mNone\u001b[0m\u001b[0;34m,\u001b[0m \u001b[0;32mNone\u001b[0m\u001b[0;34m,\u001b[0m \u001b[0;32mNone\u001b[0m\u001b[0;34m\u001b[0m\u001b[0;34m\u001b[0m\u001b[0m\n",
      "\u001b[0;32m~/anaconda3/envs/graph1/lib/python3.7/site-packages/ctgan/conditional.py\u001b[0m in \u001b[0;36msample\u001b[0;34m(self, batch)\u001b[0m\n\u001b[1;32m     79\u001b[0m         \u001b[0mmask1\u001b[0m \u001b[0;34m=\u001b[0m \u001b[0mnp\u001b[0m\u001b[0;34m.\u001b[0m\u001b[0mzeros\u001b[0m\u001b[0;34m(\u001b[0m\u001b[0;34m(\u001b[0m\u001b[0mbatch\u001b[0m\u001b[0;34m,\u001b[0m \u001b[0mself\u001b[0m\u001b[0;34m.\u001b[0m\u001b[0mn_col\u001b[0m\u001b[0;34m)\u001b[0m\u001b[0;34m,\u001b[0m \u001b[0mdtype\u001b[0m\u001b[0;34m=\u001b[0m\u001b[0;34m'float32'\u001b[0m\u001b[0;34m)\u001b[0m\u001b[0;34m\u001b[0m\u001b[0;34m\u001b[0m\u001b[0m\n\u001b[1;32m     80\u001b[0m         \u001b[0mmask1\u001b[0m\u001b[0;34m[\u001b[0m\u001b[0mnp\u001b[0m\u001b[0;34m.\u001b[0m\u001b[0marange\u001b[0m\u001b[0;34m(\u001b[0m\u001b[0mbatch\u001b[0m\u001b[0;34m)\u001b[0m\u001b[0;34m,\u001b[0m \u001b[0midx\u001b[0m\u001b[0;34m]\u001b[0m \u001b[0;34m=\u001b[0m \u001b[0;36m1\u001b[0m\u001b[0;34m\u001b[0m\u001b[0;34m\u001b[0m\u001b[0m\n\u001b[0;32m---> 81\u001b[0;31m         \u001b[0mopt1prime\u001b[0m \u001b[0;34m=\u001b[0m \u001b[0mself\u001b[0m\u001b[0;34m.\u001b[0m\u001b[0mrandom_choice_prob_index\u001b[0m\u001b[0;34m(\u001b[0m\u001b[0midx\u001b[0m\u001b[0;34m)\u001b[0m\u001b[0;34m\u001b[0m\u001b[0;34m\u001b[0m\u001b[0m\n\u001b[0m\u001b[1;32m     82\u001b[0m         \u001b[0mopt1\u001b[0m \u001b[0;34m=\u001b[0m \u001b[0mself\u001b[0m\u001b[0;34m.\u001b[0m\u001b[0minterval\u001b[0m\u001b[0;34m[\u001b[0m\u001b[0midx\u001b[0m\u001b[0;34m,\u001b[0m \u001b[0;36m0\u001b[0m\u001b[0;34m]\u001b[0m \u001b[0;34m+\u001b[0m \u001b[0mopt1prime\u001b[0m\u001b[0;34m\u001b[0m\u001b[0;34m\u001b[0m\u001b[0m\n\u001b[1;32m     83\u001b[0m         \u001b[0mvec1\u001b[0m\u001b[0;34m[\u001b[0m\u001b[0mnp\u001b[0m\u001b[0;34m.\u001b[0m\u001b[0marange\u001b[0m\u001b[0;34m(\u001b[0m\u001b[0mbatch\u001b[0m\u001b[0;34m)\u001b[0m\u001b[0;34m,\u001b[0m \u001b[0mopt1\u001b[0m\u001b[0;34m]\u001b[0m \u001b[0;34m=\u001b[0m \u001b[0;36m1\u001b[0m\u001b[0;34m\u001b[0m\u001b[0;34m\u001b[0m\u001b[0m\n",
      "\u001b[0;32m~/anaconda3/envs/graph1/lib/python3.7/site-packages/ctgan/conditional.py\u001b[0m in \u001b[0;36mrandom_choice_prob_index\u001b[0;34m(self, idx)\u001b[0m\n\u001b[1;32m     65\u001b[0m \u001b[0;34m\u001b[0m\u001b[0m\n\u001b[1;32m     66\u001b[0m     \u001b[0;32mdef\u001b[0m \u001b[0mrandom_choice_prob_index\u001b[0m\u001b[0;34m(\u001b[0m\u001b[0mself\u001b[0m\u001b[0;34m,\u001b[0m \u001b[0midx\u001b[0m\u001b[0;34m)\u001b[0m\u001b[0;34m:\u001b[0m\u001b[0;34m\u001b[0m\u001b[0;34m\u001b[0m\u001b[0m\n\u001b[0;32m---> 67\u001b[0;31m         \u001b[0ma\u001b[0m \u001b[0;34m=\u001b[0m \u001b[0mself\u001b[0m\u001b[0;34m.\u001b[0m\u001b[0mp\u001b[0m\u001b[0;34m[\u001b[0m\u001b[0midx\u001b[0m\u001b[0;34m]\u001b[0m\u001b[0;34m\u001b[0m\u001b[0;34m\u001b[0m\u001b[0m\n\u001b[0m\u001b[1;32m     68\u001b[0m         \u001b[0mr\u001b[0m \u001b[0;34m=\u001b[0m \u001b[0mnp\u001b[0m\u001b[0;34m.\u001b[0m\u001b[0mexpand_dims\u001b[0m\u001b[0;34m(\u001b[0m\u001b[0mnp\u001b[0m\u001b[0;34m.\u001b[0m\u001b[0mrandom\u001b[0m\u001b[0;34m.\u001b[0m\u001b[0mrand\u001b[0m\u001b[0;34m(\u001b[0m\u001b[0ma\u001b[0m\u001b[0;34m.\u001b[0m\u001b[0mshape\u001b[0m\u001b[0;34m[\u001b[0m\u001b[0;36m0\u001b[0m\u001b[0;34m]\u001b[0m\u001b[0;34m)\u001b[0m\u001b[0;34m,\u001b[0m \u001b[0maxis\u001b[0m\u001b[0;34m=\u001b[0m\u001b[0;36m1\u001b[0m\u001b[0;34m)\u001b[0m\u001b[0;34m\u001b[0m\u001b[0;34m\u001b[0m\u001b[0m\n\u001b[1;32m     69\u001b[0m         \u001b[0;32mreturn\u001b[0m \u001b[0;34m(\u001b[0m\u001b[0ma\u001b[0m\u001b[0;34m.\u001b[0m\u001b[0mcumsum\u001b[0m\u001b[0;34m(\u001b[0m\u001b[0maxis\u001b[0m\u001b[0;34m=\u001b[0m\u001b[0;36m1\u001b[0m\u001b[0;34m)\u001b[0m \u001b[0;34m>\u001b[0m \u001b[0mr\u001b[0m\u001b[0;34m)\u001b[0m\u001b[0;34m.\u001b[0m\u001b[0margmax\u001b[0m\u001b[0;34m(\u001b[0m\u001b[0maxis\u001b[0m\u001b[0;34m=\u001b[0m\u001b[0;36m1\u001b[0m\u001b[0;34m)\u001b[0m\u001b[0;34m\u001b[0m\u001b[0;34m\u001b[0m\u001b[0m\n",
      "\u001b[0;31mKeyboardInterrupt\u001b[0m: "
     ]
    }
   ],
   "source": [
    "ctgan.fit(data_df, columns, epochs=500)\n",
    "ctgan.save('ctgan_500.pkl')"
   ]
  },
  {
   "cell_type": "code",
   "execution_count": null,
   "metadata": {},
   "outputs": [],
   "source": []
  },
  {
   "cell_type": "code",
   "execution_count": 35,
   "metadata": {},
   "outputs": [
    {
     "name": "stdout",
     "output_type": "stream",
     "text": [
      "INFO: Pandarallel will run on 40 workers.\n",
      "INFO: Pandarallel will use Memory file system to transfer data between the main process and workers.\n"
     ]
    }
   ],
   "source": [
    "real_data = np.load('./../generated_data_v1/us_import1/pos_data.npy')\n",
    "X = ctgan.sample(real_data.shape[0])\n"
   ]
  },
  {
   "cell_type": "code",
   "execution_count": 36,
   "metadata": {},
   "outputs": [],
   "source": [
    "X = X.values\n"
   ]
  },
  {
   "cell_type": "code",
   "execution_count": 37,
   "metadata": {},
   "outputs": [],
   "source": [
    "mi_gen = eval_module.calculate_MI(X)\n",
    "mi_real = eval_module.calculate_MI(real_data)"
   ]
  },
  {
   "cell_type": "code",
   "execution_count": 39,
   "metadata": {},
   "outputs": [
    {
     "data": {
      "text/plain": [
       "-0.22874190482695336"
      ]
     },
     "execution_count": 39,
     "metadata": {},
     "output_type": "execute_result"
    }
   ],
   "source": [
    "np.mean(np.array(mi_gen) - np.array(mi_real))"
   ]
  },
  {
   "cell_type": "code",
   "execution_count": null,
   "metadata": {},
   "outputs": [],
   "source": []
  },
  {
   "cell_type": "code",
   "execution_count": 51,
   "metadata": {},
   "outputs": [
    {
     "data": {
      "text/plain": [
       "[0.9828178694158075,\n",
       " 0.7048252911813644,\n",
       " 0.9279761904761905,\n",
       " 0.9498207885304659,\n",
       " 0.9206349206349207,\n",
       " 0.9923664122137404,\n",
       " 0.968421052631579,\n",
       " 0.8385952465413267]"
      ]
     },
     "execution_count": 51,
     "metadata": {},
     "output_type": "execute_result"
    }
   ],
   "source": [
    "eval_module.check_diversity(X, domain_dims)"
   ]
  },
  {
   "cell_type": "code",
   "execution_count": 41,
   "metadata": {},
   "outputs": [
    {
     "name": "stdout",
     "output_type": "stream",
     "text": [
      "/home/ddatta/Code/experimentalGAN/evaluator/saved_model/us_import1/ad_if.pkl\n",
      "IsolationForest(contamination=0.01, n_jobs=40, verbose=True)\n",
      "(47203, 8)\n",
      ">> (47203, 8654)\n",
      "(47203, 8654)\n"
     ]
    },
    {
     "data": {
      "text/plain": [
       "0.02186301718111137"
      ]
     },
     "execution_count": 41,
     "metadata": {},
     "output_type": "execute_result"
    }
   ],
   "source": [
    "eval_module.check_relative_anomaly_score( test_data = X, DIR ='us_import1', domain_dims = domain_dims)"
   ]
  },
  {
   "cell_type": "code",
   "execution_count": 54,
   "metadata": {},
   "outputs": [
    {
     "name": "stdout",
     "output_type": "stream",
     "text": [
      "INFO: Pandarallel will run on 40 workers.\n",
      "INFO: Pandarallel will use Memory file system to transfer data between the main process and workers.\n"
     ]
    },
    {
     "data": {
      "text/plain": [
       "[inf, inf, inf, inf, inf, inf, inf, inf]"
      ]
     },
     "execution_count": 54,
     "metadata": {},
     "output_type": "execute_result"
    }
   ],
   "source": [
    "eval_module.check_KLDiv(real_data, X)"
   ]
  },
  {
   "cell_type": "code",
   "execution_count": null,
   "metadata": {},
   "outputs": [],
   "source": [
    "from collections import Counter\n",
    "from scipy.stats import entropy\n",
    "test_data = X.copy()\n",
    "\n",
    "for i in range(real_data.shape[1]):\n",
    "        \n",
    "    x = real_data[:,i].astype(int)\n",
    "    y = test_data[:,i].astype(int)\n",
    "    arity = len(set(x))\n",
    "    dist_x = np.zeros(arity)\n",
    "    dist_y = np.zeros(arity)\n",
    "    c_x = Counter(x)\n",
    "    c_y = Counter(y)\n",
    "    N = x.shape[0]\n",
    "\n",
    "    for v,c in c_y.items():\n",
    "        dist_y[v] = c\n",
    "    dist_y = dist_y / N\n",
    "    \n",
    "   \n",
    "    for v,c in c_x.items():\n",
    "        dist_x[v] = c\n",
    "    dist_x = dist_x / N\n",
    "    kld = hellinger( dist_y,dist_x)\n",
    "    print(kld)"
   ]
  },
  {
   "cell_type": "code",
   "execution_count": 64,
   "metadata": {},
   "outputs": [],
   "source": [
    "from gensim.matutils import hellinger"
   ]
  },
  {
   "cell_type": "code",
   "execution_count": null,
   "metadata": {},
   "outputs": [],
   "source": [
    "hellinger"
   ]
  }
 ],
 "metadata": {
  "kernelspec": {
   "display_name": "Python 3",
   "language": "python",
   "name": "python3"
  },
  "language_info": {
   "codemirror_mode": {
    "name": "ipython",
    "version": 3
   },
   "file_extension": ".py",
   "mimetype": "text/x-python",
   "name": "python",
   "nbconvert_exporter": "python",
   "pygments_lexer": "ipython3",
   "version": "3.7.9"
  }
 },
 "nbformat": 4,
 "nbformat_minor": 4
}
